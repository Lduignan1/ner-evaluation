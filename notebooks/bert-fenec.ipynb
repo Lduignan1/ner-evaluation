{
 "cells": [
  {
   "cell_type": "markdown",
   "id": "6ff04ec5",
   "metadata": {},
   "source": [
    "# camembert-ner: model fine-tuned from camemBERT for NER task\n",
    "https://huggingface.co/Jean-Baptiste/camembert-ner"
   ]
  },
  {
   "cell_type": "markdown",
   "id": "1f843431",
   "metadata": {},
   "source": [
    "Training data annotated as follows:\n",
    "\n",
    "- `O`\tOutside of a named entity\n",
    "- `MISC`\tMiscellaneous entity\n",
    "- `PER`\tPerson’s name\n",
    "- `ORG`\tOrganization\n",
    "- `LOC`\tLocation"
   ]
  },
  {
   "cell_type": "code",
   "execution_count": 19,
   "id": "5cd33888",
   "metadata": {},
   "outputs": [
    {
     "data": {
      "application/vnd.jupyter.widget-view+json": {
       "model_id": "1b406a35887d4f5ebc8912cd184ee745",
       "version_major": 2,
       "version_minor": 0
      },
      "text/plain": [
       "Downloading (…)okenizer_config.json:   0%|          | 0.00/269 [00:00<?, ?B/s]"
      ]
     },
     "metadata": {},
     "output_type": "display_data"
    },
    {
     "name": "stderr",
     "output_type": "stream",
     "text": [
      "C:\\Users\\these\\anaconda3\\lib\\site-packages\\huggingface_hub\\file_download.py:133: UserWarning: `huggingface_hub` cache-system uses symlinks by default to efficiently store duplicated files but your machine does not support them in C:\\Users\\these\\.cache\\huggingface\\hub. Caching files will still work but in a degraded version that might require more space on your disk. This warning can be disabled by setting the `HF_HUB_DISABLE_SYMLINKS_WARNING` environment variable. For more details, see https://huggingface.co/docs/huggingface_hub/how-to-cache#limitations.\n",
      "To support symlinks on Windows, you either need to activate Developer Mode or to run Python as an administrator. In order to see activate developer mode, see this article: https://docs.microsoft.com/en-us/windows/apps/get-started/enable-your-device-for-development\n",
      "  warnings.warn(message)\n"
     ]
    },
    {
     "data": {
      "application/vnd.jupyter.widget-view+json": {
       "model_id": "a47f24de0e61467f98b5c81608ed080c",
       "version_major": 2,
       "version_minor": 0
      },
      "text/plain": [
       "Downloading (…)lve/main/config.json:   0%|          | 0.00/892 [00:00<?, ?B/s]"
      ]
     },
     "metadata": {},
     "output_type": "display_data"
    },
    {
     "data": {
      "application/vnd.jupyter.widget-view+json": {
       "model_id": "71ebc6d84dfe497bac3af9c5b917b163",
       "version_major": 2,
       "version_minor": 0
      },
      "text/plain": [
       "Downloading (…)tencepiece.bpe.model:   0%|          | 0.00/811k [00:00<?, ?B/s]"
      ]
     },
     "metadata": {},
     "output_type": "display_data"
    },
    {
     "data": {
      "application/vnd.jupyter.widget-view+json": {
       "model_id": "4e0cee3117244f0c9574b9061fc2c321",
       "version_major": 2,
       "version_minor": 0
      },
      "text/plain": [
       "Downloading (…)cial_tokens_map.json:   0%|          | 0.00/210 [00:00<?, ?B/s]"
      ]
     },
     "metadata": {},
     "output_type": "display_data"
    },
    {
     "data": {
      "application/vnd.jupyter.widget-view+json": {
       "model_id": "262fee678de5416e926f5f9daa5e8429",
       "version_major": 2,
       "version_minor": 0
      },
      "text/plain": [
       "Downloading pytorch_model.bin:   0%|          | 0.00/440M [00:00<?, ?B/s]"
      ]
     },
     "metadata": {},
     "output_type": "display_data"
    },
    {
     "data": {
      "text/plain": [
       "[{'entity_group': 'ORG',\n",
       "  'score': 0.9921588,\n",
       "  'word': 'Apple',\n",
       "  'start': 0,\n",
       "  'end': 5},\n",
       " {'entity_group': 'PER',\n",
       "  'score': 0.99597645,\n",
       "  'word': 'Steve Jobs',\n",
       "  'start': 74,\n",
       "  'end': 85},\n",
       " {'entity_group': 'LOC',\n",
       "  'score': 0.99835855,\n",
       "  'word': 'Los Altos',\n",
       "  'start': 87,\n",
       "  'end': 97},\n",
       " {'entity_group': 'LOC',\n",
       "  'score': 0.9982911,\n",
       "  'word': 'Californie',\n",
       "  'start': 100,\n",
       "  'end': 111},\n",
       " {'entity_group': 'PER',\n",
       "  'score': 0.99870753,\n",
       "  'word': 'Steve Jobs',\n",
       "  'start': 115,\n",
       "  'end': 126},\n",
       " {'entity_group': 'PER',\n",
       "  'score': 0.99879086,\n",
       "  'word': 'Steve Wozniak',\n",
       "  'start': 127,\n",
       "  'end': 141},\n",
       " {'entity_group': 'PER',\n",
       "  'score': 0.99646753,\n",
       "  'word': 'Ronald Wayne',\n",
       "  'start': 144,\n",
       "  'end': 157},\n",
       " {'entity_group': 'ORG',\n",
       "  'score': 0.9449746,\n",
       "  'word': 'Apple Computer',\n",
       "  'start': 243,\n",
       "  'end': 257}]"
      ]
     },
     "execution_count": 19,
     "metadata": {},
     "output_type": "execute_result"
    }
   ],
   "source": [
    "from transformers import AutoTokenizer, AutoModelForTokenClassification\n",
    "\n",
    "tokenizer = AutoTokenizer.from_pretrained(\"Jean-Baptiste/camembert-ner\")\n",
    "model = AutoModelForTokenClassification.from_pretrained(\"Jean-Baptiste/camembert-ner\")\n",
    "\n",
    "\n",
    "##### Process text sample (from wikipedia)\n",
    "\n",
    "from transformers import pipeline\n",
    "\n",
    "nlp = pipeline('ner', model=model, tokenizer=tokenizer, aggregation_strategy=\"simple\")\n",
    "nlp(\"Apple est créée le 1er avril 1976 dans le garage de la maison d'enfance de Steve Jobs à Los Altos en Californie par Steve Jobs, Steve Wozniak et Ronald Wayne14, puis constituée sous forme de société le 3 janvier 1977 à l'origine sous le nom d'Apple Computer, mais pour ses 30 ans et pour refléter la diversification de ses produits, le mot « computer » est retiré le 9 janvier 2015.\")\n",
    "\n"
   ]
  },
  {
   "cell_type": "markdown",
   "id": "7eebc947",
   "metadata": {},
   "source": [
    "## Data preprocessing"
   ]
  },
  {
   "cell_type": "code",
   "execution_count": 33,
   "id": "5ef3f1af",
   "metadata": {},
   "outputs": [
    {
     "name": "stdout",
     "output_type": "stream",
     "text": [
      "40\n",
      "54\n",
      "88\n",
      "57\n",
      "24\n",
      "67\n",
      "55\n",
      "71\n",
      "40\n",
      "61\n",
      "45\n"
     ]
    }
   ],
   "source": [
    "import os\n",
    "\n",
    "file_path = './gold-wikiner-tagset/42131-0.sample.txt'\n",
    "\n",
    "def get_max_line_len(filename):\n",
    "    with open(filename, 'r', encoding='utf-8') as f:\n",
    "        max_len = 0\n",
    "        \n",
    "        for line in f:\n",
    "            line = line.strip().split()\n",
    "            \n",
    "            max_len = len(line) if len(line) > max_len else max_len\n",
    "    \n",
    "    return max_len\n",
    "\n",
    "get_max_line_len(file_path)\n",
    "                \n",
    "    \n",
    "\n",
    "file_dir = './gold-wikiner-tagset'\n",
    "\n",
    "# show max nb of tokens per line for each .txt file\n",
    "for file in os.listdir(file_dir):\n",
    "    if file.endswith('.txt'):\n",
    "        print(get_max_line_len(f'{file_dir}/{file}'))"
   ]
  },
  {
   "cell_type": "code",
   "execution_count": 35,
   "id": "25e673e9",
   "metadata": {},
   "outputs": [
    {
     "data": {
      "text/plain": [
       "15"
      ]
     },
     "execution_count": 35,
     "metadata": {},
     "output_type": "execute_result"
    }
   ],
   "source": [
    "len(\"Pierre-le-Grand\")"
   ]
  },
  {
   "cell_type": "markdown",
   "id": "6b878606",
   "metadata": {},
   "source": [
    "## Write Bert predictions to file "
   ]
  },
  {
   "cell_type": "code",
   "execution_count": 47,
   "id": "3cbd722b",
   "metadata": {},
   "outputs": [],
   "source": [
    "def write_bert_preds(input_file, nlp):\n",
    "    ent_num = 0\n",
    "    num_chars = 0\n",
    "    \n",
    "    with open(input_file, 'r', encoding='utf-8') as file:\n",
    "        \n",
    "        for line in file:\n",
    "            output = nlp(line)\n",
    "            \n",
    "            for ent in output:\n",
    "                \n",
    "                ent_num += 1 \n",
    "                \n",
    "                 \n",
    "                \n",
    "                with open(\"output.ann\", 'a+', encoding='utf-8') as new_file:\n",
    "                    new_file.write(f\"T{ent_num}\\t{ent['entity_group']} {ent['start'] + num_chars} {ent['end'] + num_chars}\\t{ent['word']}\".strip())\n",
    "            \n",
    "            num_chars += len(line)\n",
    "       \n",
    "    \n",
    "\n",
    "file_path = './gold-wikiner-tagset/42131-0.sample.txt'\n",
    "nlp = pipeline('ner', model=model, tokenizer=tokenizer, aggregation_strategy=\"simple\")\n",
    "                \n",
    "                \n",
    "write_bert_preds(file_path, nlp)"
   ]
  }
 ],
 "metadata": {
  "kernelspec": {
   "display_name": "Python 3 (ipykernel)",
   "language": "python",
   "name": "python3"
  },
  "language_info": {
   "codemirror_mode": {
    "name": "ipython",
    "version": 3
   },
   "file_extension": ".py",
   "mimetype": "text/x-python",
   "name": "python",
   "nbconvert_exporter": "python",
   "pygments_lexer": "ipython3",
   "version": "3.10.9"
  }
 },
 "nbformat": 4,
 "nbformat_minor": 5
}
